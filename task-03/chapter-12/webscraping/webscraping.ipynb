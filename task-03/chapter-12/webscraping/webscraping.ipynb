{
 "cells": [
  {
   "cell_type": "markdown",
   "metadata": {},
   "source": [
    "# task-03/chapter-12(webscraping)"
   ]
  },
  {
   "cell_type": "markdown",
   "metadata": {},
   "source": [
    "\n",
    "---\n",
    "\n",
    "## Libraries Used\n",
    "- `webbrowser`\n",
    "- `sys`\n",
    "- `pyperclip`\n",
    "\n",
    "### Functionality  \n",
    "- **`webbrowser`**: Used to open the default web browser with the Google Maps URL.  \n",
    "- **`sys`**: Handles command-line arguments.  \n",
    "- **`pyperclip`**: Accesses the system clipboard for copied text.\n",
    "\n",
    "---"
   ]
  },
  {
   "cell_type": "code",
   "execution_count": 8,
   "metadata": {},
   "outputs": [
    {
     "data": {
      "text/plain": [
       "True"
      ]
     },
     "execution_count": 8,
     "metadata": {},
     "output_type": "execute_result"
    }
   ],
   "source": [
    "import webbrowser, sys, pyperclip\n",
    "\n",
    "if len(sys.argv) < 1:\n",
    "    address = ' '.join(sys.argv[1:])\n",
    "\n",
    "else:\n",
    "    address = pyperclip.paste()\n",
    "\n",
    "webbrowser.open(\"https://www.google.com/maps/place/\" + address)"
   ]
  },
  {
   "cell_type": "markdown",
   "metadata": {},
   "source": [
    "---\n",
    "\n",
    "## Libraries Used\n",
    "- `requests`\n",
    "\n",
    "### Functionality\n",
    "1. **`requests.get(url)`**  \n",
    "   - Fetches the content of the URL.  \n",
    "   - URL used: `https://automatetheboringstuff.com/files/rj.txt`.  \n",
    "\n",
    "2. **`res.status_code`**  \n",
    "   - Checks the HTTP status code of the response.  \n",
    "   - `requests.codes.ok` confirms the request was successful (status code 200).  \n",
    "\n",
    "3. **`res.text`**  \n",
    "   - Contains the full content of the fetched file as a string.  \n",
    "   - `len(res.text)` gives the total number of characters.  \n",
    "\n",
    "4. **`res.text[:250]`**  \n",
    "   - Displays the first 250 characters of the fetched content.  \n",
    "\n",
    "--- "
   ]
  },
  {
   "cell_type": "code",
   "execution_count": 9,
   "metadata": {},
   "outputs": [
    {
     "name": "stdout",
     "output_type": "stream",
     "text": [
      "<class 'requests.models.Response'>\n",
      "True\n",
      "178978\n",
      "The Project Gutenberg EBook of Romeo and Juliet, by William Shakespeare\n",
      "\n",
      "This eBook is for the use of anyone anywhere at no cost and with\n",
      "almost no restrictions whatsoever.  You may copy it, give it away or\n",
      "re-use it under the terms of the Projec\n"
     ]
    }
   ],
   "source": [
    "import requests\n",
    "res = requests.get('https://automatetheboringstuff.com/files/rj.txt')\n",
    "print(type(res)) \n",
    "\n",
    "print(res.status_code == requests.codes.ok)  \n",
    "\n",
    "print(len(res.text))  \n",
    "print(res.text[:250])\n"
   ]
  },
  {
   "cell_type": "markdown",
   "metadata": {},
   "source": [
    "## Checking for errors:\n",
    "---\n",
    "## Libraries Used\n",
    "- requests\n",
    "### Functionality\n",
    "1. requests.get(url)\n",
    "\n",
    "- Fetches the content of the specified URL.\n",
    "- URL used: https://inventwithpython.com/page_that_does_not_exist.\n",
    "\n",
    "2. res.raise_for_status()\n",
    "\n",
    "-  Raises an HTTPError if the HTTP request returned an unsuccessful status code.\n",
    "- Useful for error handling when dealing with URLs that may not exist.\n",
    "---"
   ]
  },
  {
   "cell_type": "code",
   "execution_count": 11,
   "metadata": {},
   "outputs": [
    {
     "ename": "HTTPError",
     "evalue": "404 Client Error: Not Found for url: https://inventwithpython.com/page_that_does_not_exist",
     "output_type": "error",
     "traceback": [
      "\u001b[0;31m---------------------------------------------------------------------------\u001b[0m",
      "\u001b[0;31mHTTPError\u001b[0m                                 Traceback (most recent call last)",
      "Cell \u001b[0;32mIn[11], line 2\u001b[0m\n\u001b[1;32m      1\u001b[0m res \u001b[38;5;241m=\u001b[39m requests\u001b[38;5;241m.\u001b[39mget(\u001b[38;5;124m'\u001b[39m\u001b[38;5;124mhttps://inventwithpython.com/page_that_does_not_exist\u001b[39m\u001b[38;5;124m'\u001b[39m)\n\u001b[0;32m----> 2\u001b[0m \u001b[43mres\u001b[49m\u001b[38;5;241;43m.\u001b[39;49m\u001b[43mraise_for_status\u001b[49m\u001b[43m(\u001b[49m\u001b[43m)\u001b[49m\n",
      "File \u001b[0;32m~/Documents/dreamteam-tasks/task-03/automate_env/lib/python3.12/site-packages/requests/models.py:1024\u001b[0m, in \u001b[0;36mResponse.raise_for_status\u001b[0;34m(self)\u001b[0m\n\u001b[1;32m   1019\u001b[0m     http_error_msg \u001b[38;5;241m=\u001b[39m (\n\u001b[1;32m   1020\u001b[0m         \u001b[38;5;124mf\u001b[39m\u001b[38;5;124m\"\u001b[39m\u001b[38;5;132;01m{\u001b[39;00m\u001b[38;5;28mself\u001b[39m\u001b[38;5;241m.\u001b[39mstatus_code\u001b[38;5;132;01m}\u001b[39;00m\u001b[38;5;124m Server Error: \u001b[39m\u001b[38;5;132;01m{\u001b[39;00mreason\u001b[38;5;132;01m}\u001b[39;00m\u001b[38;5;124m for url: \u001b[39m\u001b[38;5;132;01m{\u001b[39;00m\u001b[38;5;28mself\u001b[39m\u001b[38;5;241m.\u001b[39murl\u001b[38;5;132;01m}\u001b[39;00m\u001b[38;5;124m\"\u001b[39m\n\u001b[1;32m   1021\u001b[0m     )\n\u001b[1;32m   1023\u001b[0m \u001b[38;5;28;01mif\u001b[39;00m http_error_msg:\n\u001b[0;32m-> 1024\u001b[0m     \u001b[38;5;28;01mraise\u001b[39;00m HTTPError(http_error_msg, response\u001b[38;5;241m=\u001b[39m\u001b[38;5;28mself\u001b[39m)\n",
      "\u001b[0;31mHTTPError\u001b[0m: 404 Client Error: Not Found for url: https://inventwithpython.com/page_that_does_not_exist"
     ]
    }
   ],
   "source": [
    "res = requests.get('https://inventwithpython.com/page_that_does_not_exist')\n",
    "res.raise_for_status()"
   ]
  },
  {
   "cell_type": "markdown",
   "metadata": {},
   "source": [
    "## Saving Downloaded Files to the Hard Drive\n",
    "\n",
    "---\n",
    "\n",
    "## Libraries Used\n",
    "- `requests`\n",
    "\n",
    "### Functionality\n",
    "1. **Fetch Content from URL**  \n",
    "   - Uses `requests.get()` to fetch the content of the text file from the URL:  \n",
    "     `https://automatetheboringstuff.com/files/rj.txt`.\n",
    "\n",
    "2. **Error Handling**  \n",
    "   - Uses `res.raise_for_status()` to check if the HTTP request was successful.  \n",
    "   - Raises an exception if an error occurred (e.g., 404 Not Found).\n",
    "\n",
    "3. **Save Content to File**  \n",
    "   - Opens a file named `RomeoAndJuliet.txt` in binary write mode (`'wb'`).  \n",
    "   - Writes the content in chunks of 100,000 bytes to handle large files efficiently.  \n",
    "   - Closes the file after writing is complete.\n",
    "\n",
    "**File Created**:  \n",
    "- `RomeoAndJuliet.txt`  \n",
    "\n",
    "**Key Method**:  \n",
    "- `res.iter_content(100000)`: Reads the response content in chunks of 100,000 bytes.  \n",
    "\n",
    "---\n",
    "\n"
   ]
  },
  {
   "cell_type": "code",
   "execution_count": 14,
   "metadata": {},
   "outputs": [],
   "source": [
    "import requests\n",
    "\n",
    "res = requests.get('https://automatetheboringstuff.com/files/rj.txt')\n",
    "res.raise_for_status()\n",
    "playFile = open('RomeoAndJuliet.txt', 'wb')\n",
    "for chunk in res.iter_content(100000):\n",
    "        playFile.write(chunk)\n",
    "\n",
    "playFile.close()"
   ]
  }
 ],
 "metadata": {
  "kernelspec": {
   "display_name": "automate_env",
   "language": "python",
   "name": "python3"
  },
  "language_info": {
   "codemirror_mode": {
    "name": "ipython",
    "version": 3
   },
   "file_extension": ".py",
   "mimetype": "text/x-python",
   "name": "python",
   "nbconvert_exporter": "python",
   "pygments_lexer": "ipython3",
   "version": "3.12.3"
  }
 },
 "nbformat": 4,
 "nbformat_minor": 2
}
